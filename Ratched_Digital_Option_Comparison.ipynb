{
 "cells": [
  {
   "cell_type": "code",
   "execution_count": 25,
   "metadata": {},
   "outputs": [],
   "source": [
    "import numpy as np\n",
    "import math\n",
    "import matplotlib.pyplot as plt\n",
    "import pandas as pd\n",
    "from scipy.stats import qmc\n",
    "from scipy.stats import norm"
   ]
  },
  {
   "cell_type": "markdown",
   "metadata": {},
   "source": [
    "## Low Discrepancy sequences"
   ]
  },
  {
   "cell_type": "markdown",
   "metadata": {},
   "source": [
    "Sobol sequence"
   ]
  },
  {
   "cell_type": "code",
   "execution_count": 61,
   "metadata": {},
   "outputs": [],
   "source": [
    "def Sobol_seq_normal_transformed(d,m, scramble_func):\n",
    "    Sobol_seq = qmc.Sobol(d, scramble = scramble_func) # weil scramble ist noch irgendein Extraschritt und default ist True\n",
    "\n",
    "    sample =  Sobol_seq.random_base2(m)\n",
    "    #hier nachher wieder ändern\n",
    "    #sample[0,:] = np.zeros(d)\n",
    "    #print(sample)\n",
    "\n",
    "    #uniform random variable to normal distributed random varianle\n",
    "    return norm.ppf(sample,loc = 0, scale = 1) #scale is standard deviation not variance!!!"
   ]
  },
  {
   "cell_type": "markdown",
   "metadata": {},
   "source": [
    "Create Brownian Bridges"
   ]
  },
  {
   "cell_type": "code",
   "execution_count": 40,
   "metadata": {},
   "outputs": [],
   "source": [
    "def create_BB(k, m, QMC, Sobol_not_Halton, scramble_func, mc_runs, d, delta_t):\n",
    "    h = d                       #h : Differenz der Punkte in Indexpunkten\n",
    "    X = np.empty((mc_runs,d+1))       #+1 damit die 0 am Anfang mit dabei ist\n",
    "    X[:,0] = 0\n",
    "\n",
    "    if QMC == False:\n",
    "        X[:,d] = np.sqrt(d * delta_t) * np.random.randn(mc_runs)\n",
    "        for i in range(k):\n",
    "            h = int(h/2)\n",
    "            pos = h\n",
    "            for j in range(2**i):\n",
    "                X[:,pos] = (1/2) * X[:,pos - h] + (1/2) * X[:,pos + h] + np.sqrt((1/2) * h * delta_t) * np.random.randn(mc_runs)\n",
    "                #print(pos)\n",
    "                pos = pos + 2*h\n",
    "    elif QMC == True:\n",
    "        if Sobol_not_Halton == True:\n",
    "            norm_rv = Sobol_seq_normal_transformed(d, m, scramble_func)\n",
    "            X[:,d] = np.sqrt(d * delta_t) * norm_rv[:, d-1]\n",
    "            for i in range(k):\n",
    "                h = int(h/2)\n",
    "                pos = h\n",
    "                for j in range(2**i):\n",
    "                    X[:,pos] = (1/2) * X[:,pos - h] + (1/2) * X[:,pos + h] + np.sqrt((1/2) * h * delta_t) * norm_rv[:,pos-1]\n",
    "                    #print(pos)\n",
    "                    pos = pos + 2*h\n",
    "\n",
    "    return X"
   ]
  },
  {
   "cell_type": "markdown",
   "metadata": {},
   "source": [
    "Create Standard Brownian Motion"
   ]
  },
  {
   "cell_type": "code",
   "execution_count": 62,
   "metadata": {},
   "outputs": [],
   "source": [
    "def create_standard_bm(k, m, QMC, Sobol_not_Halton, scramble_func, mc_runs, d, delta_t):\n",
    "    if QMC == False:\n",
    "        #create lower trinangular matrix with ones\n",
    "        BM = np.empty([mc_runs,d])\n",
    "        for i in range(mc_runs):\n",
    "            lower_tri_matr = np.tril(np.ones([d,d]))\n",
    "            A = math.sqrt(delta_t)*lower_tri_matr\n",
    "            #create Brownian motion\n",
    "            BM[i,:] = A.dot(np.random.normal(0,1,d))\n",
    "    elif QMC == True:\n",
    "        if Sobol_not_Halton == True:\n",
    "            BM = np.empty([mc_runs,d])\n",
    "            norm_rv = Sobol_seq_normal_transformed(d, m, scramble_func)\n",
    "            for i in range(mc_runs):\n",
    "                lower_tri_matr = np.tril(np.ones([d,d]))\n",
    "                A = math.sqrt(delta_t)*lower_tri_matr\n",
    "                #create Brownian motion\n",
    "                BM[i,:] = A.dot(norm_rv[i,:])\n",
    "\n",
    "    return BM"
   ]
  },
  {
   "cell_type": "markdown",
   "metadata": {},
   "source": [
    "Create Asset prices"
   ]
  },
  {
   "cell_type": "code",
   "execution_count": 36,
   "metadata": {},
   "outputs": [],
   "source": [
    "def create_asset_prices(k, m, QMC, Sobol_not_Halton, scramble_func, BB, mc_runs, d, delta_t, S_0, mu, sigma):\n",
    "    S = np.empty([mc_runs, d+1]) #+1 weil d mal simuliert wird und aber der Startpreis des Assets auch in dem Vektor steht\n",
    "    \n",
    "    S[:,0] = S_0\n",
    "\n",
    "    if BB == True:\n",
    "        BM = create_BB(k, m, QMC, Sobol_not_Halton, scramble_func, mc_runs, d, delta_t)\n",
    "        BM = BM[:,1:len(BM)] #um B_0 abzuschneiden\n",
    "    else:\n",
    "        BM = create_standard_bm(k, m, QMC, Sobol_not_Halton, scramble_func, mc_runs, d, delta_t)  #w_0 ist nciht dabei aber interessiert mich auch nicht\n",
    "\n",
    "    for k in range(mc_runs):\n",
    "        for i in range(d):\n",
    "            S[k, i+1] = S[k, 0]*np.exp(sigma*BM[k, i] + (mu-(sigma**2)/2)*(i+1)*delta_t)\n",
    "    return S\n",
    "    "
   ]
  },
  {
   "cell_type": "markdown",
   "metadata": {},
   "source": [
    "Calculate Payoff"
   ]
  },
  {
   "cell_type": "code",
   "execution_count": 37,
   "metadata": {},
   "outputs": [],
   "source": [
    "def ratched_option(k, m, QMC, Sobol_not_Halton, scramble_func, BB, mc_runs, d, delta_t, S_0, mu, sigma): \n",
    "    S = create_asset_prices(k, m, QMC, Sobol_not_Halton, scramble_func, BB, mc_runs, d, delta_t, S_0, mu, sigma)\n",
    "\n",
    "    indic = np.diff(S)>0\n",
    "\n",
    "    payoff = (indic*S[:,1:S.size]).mean(axis=1)  #python spezifisch fehlt dann das erste Element\n",
    "\n",
    "    plt.plot(S.T)\n",
    "    plt.title(\"Simulation of \"+str(mc_runs)+\" sample paths of Asset Prices \")\n",
    "    plt.show()\n",
    "    return payoff"
   ]
  },
  {
   "cell_type": "markdown",
   "metadata": {},
   "source": [
    "# Monte Carlo Simulation"
   ]
  },
  {
   "cell_type": "markdown",
   "metadata": {},
   "source": [
    "set parameters"
   ]
  },
  {
   "cell_type": "code",
   "execution_count": 58,
   "metadata": {},
   "outputs": [],
   "source": [
    "T = 1\n",
    "k = 3\n",
    "d = 2**k     #2er-Potenz für Brownian Bridge\n",
    "delta_t = T/d\n",
    "\n",
    "S_0 = 100\n",
    "mu = 0.045\n",
    "sigma = 0.3\n",
    "\n",
    "m = 7\n",
    "mc_runs = 2**m    #Für Sobol sequence\n"
   ]
  },
  {
   "cell_type": "markdown",
   "metadata": {},
   "source": [
    "Exaktes Ergebnis"
   ]
  },
  {
   "cell_type": "code",
   "execution_count": 39,
   "metadata": {},
   "outputs": [
    {
     "data": {
      "text/plain": [
       "55.618171509982446"
      ]
     },
     "metadata": {},
     "output_type": "display_data"
    }
   ],
   "source": [
    "Exp = (S_0/d)*norm.cdf((mu-((sigma**2)/2))*math.sqrt(delta_t)/sigma+sigma*math.sqrt(delta_t))*np.sum(np.exp(mu*delta_t*(np.array(range(d))+1)))\n",
    "display(Exp)"
   ]
  },
  {
   "cell_type": "markdown",
   "metadata": {},
   "source": [
    "Monte Carlo Simulation mit Standard BM und Brownian Bridges"
   ]
  },
  {
   "cell_type": "markdown",
   "metadata": {},
   "source": [
    "Fehlerberechnung RMSE in Option paper ist es aber irgendwie relativ (weil so nicht wirklich vergleichbar mit verschiedenen Längen der Option)"
   ]
  },
  {
   "cell_type": "code",
   "execution_count": 60,
   "metadata": {},
   "outputs": [
    {
     "data": {
      "text/plain": [
       "array([[       -inf,        -inf,        -inf,        -inf,        -inf,\n",
       "               -inf,        -inf,        -inf],\n",
       "       [ 0.        ,  0.        ,  0.        ,  0.        ,  0.        ,\n",
       "         0.        ,  0.        ,  0.        ],\n",
       "       [ 0.67448975, -0.67448975, -0.67448975, -0.67448975,  0.67448975,\n",
       "         0.67448975, -0.67448975,  0.67448975],\n",
       "       [-0.67448975,  0.67448975,  0.67448975,  0.67448975, -0.67448975,\n",
       "        -0.67448975,  0.67448975, -0.67448975],\n",
       "       [-0.31863936, -0.31863936,  0.31863936,  1.15034938, -0.31863936,\n",
       "        -1.15034938, -0.31863936,  1.15034938],\n",
       "       [ 1.15034938,  1.15034938, -1.15034938, -0.31863936,  1.15034938,\n",
       "         0.31863936,  1.15034938, -0.31863936],\n",
       "       [ 0.31863936, -1.15034938,  1.15034938,  0.31863936,  0.31863936,\n",
       "         1.15034938, -1.15034938, -1.15034938],\n",
       "       [-1.15034938,  0.31863936, -0.31863936, -1.15034938, -1.15034938,\n",
       "        -0.31863936,  0.31863936,  0.31863936]])"
      ]
     },
     "metadata": {},
     "output_type": "display_data"
    },
    {
     "data": {
      "text/plain": [
       "0"
      ]
     },
     "metadata": {},
     "output_type": "display_data"
    },
    {
     "data": {
      "text/plain": [
       "1"
      ]
     },
     "metadata": {},
     "output_type": "display_data"
    },
    {
     "data": {
      "text/plain": [
       "2"
      ]
     },
     "metadata": {},
     "output_type": "display_data"
    },
    {
     "data": {
      "text/plain": [
       "3"
      ]
     },
     "metadata": {},
     "output_type": "display_data"
    },
    {
     "data": {
      "text/plain": [
       "4"
      ]
     },
     "metadata": {},
     "output_type": "display_data"
    },
    {
     "data": {
      "text/plain": [
       "5"
      ]
     },
     "metadata": {},
     "output_type": "display_data"
    },
    {
     "data": {
      "text/plain": [
       "6"
      ]
     },
     "metadata": {},
     "output_type": "display_data"
    },
    {
     "data": {
      "text/plain": [
       "7"
      ]
     },
     "metadata": {},
     "output_type": "display_data"
    },
    {
     "data": {
      "text/plain": [
       "8"
      ]
     },
     "metadata": {},
     "output_type": "display_data"
    },
    {
     "ename": "IndexError",
     "evalue": "index 8 is out of bounds for axis 0 with size 8",
     "output_type": "error",
     "traceback": [
      "\u001b[1;31m---------------------------------------------------------------------------\u001b[0m",
      "\u001b[1;31mIndexError\u001b[0m                                Traceback (most recent call last)",
      "\u001b[1;32m~\\AppData\\Local\\Temp\\ipykernel_24648\\2949864338.py\u001b[0m in \u001b[0;36m<module>\u001b[1;34m\u001b[0m\n\u001b[0;32m     11\u001b[0m \u001b[1;33m\u001b[0m\u001b[0m\n\u001b[0;32m     12\u001b[0m \u001b[0mBB\u001b[0m \u001b[1;33m=\u001b[0m \u001b[1;32mFalse\u001b[0m\u001b[1;33m\u001b[0m\u001b[1;33m\u001b[0m\u001b[0m\n\u001b[1;32m---> 13\u001b[1;33m \u001b[0mpayoff_SBM\u001b[0m \u001b[1;33m=\u001b[0m \u001b[0mratched_option\u001b[0m\u001b[1;33m(\u001b[0m\u001b[0mk\u001b[0m\u001b[1;33m,\u001b[0m \u001b[0mm\u001b[0m\u001b[1;33m,\u001b[0m \u001b[0mQMC\u001b[0m\u001b[1;33m,\u001b[0m \u001b[0mSobol_not_Halton\u001b[0m\u001b[1;33m,\u001b[0m \u001b[0mscramble_func\u001b[0m\u001b[1;33m,\u001b[0m \u001b[0mBB\u001b[0m\u001b[1;33m,\u001b[0m \u001b[0mmc_runs\u001b[0m\u001b[1;33m,\u001b[0m \u001b[0md\u001b[0m\u001b[1;33m,\u001b[0m \u001b[0mdelta_t\u001b[0m\u001b[1;33m,\u001b[0m \u001b[0mS_0\u001b[0m\u001b[1;33m,\u001b[0m \u001b[0mmu\u001b[0m\u001b[1;33m,\u001b[0m \u001b[0msigma\u001b[0m\u001b[1;33m)\u001b[0m\u001b[1;33m\u001b[0m\u001b[1;33m\u001b[0m\u001b[0m\n\u001b[0m\u001b[0;32m     14\u001b[0m \u001b[1;33m\u001b[0m\u001b[0m\n\u001b[0;32m     15\u001b[0m \u001b[0mBB\u001b[0m \u001b[1;33m=\u001b[0m \u001b[1;32mTrue\u001b[0m\u001b[1;33m\u001b[0m\u001b[1;33m\u001b[0m\u001b[0m\n",
      "\u001b[1;32m~\\AppData\\Local\\Temp\\ipykernel_24648\\48134231.py\u001b[0m in \u001b[0;36mratched_option\u001b[1;34m(k, m, QMC, Sobol_not_Halton, scramble_func, BB, mc_runs, d, delta_t, S_0, mu, sigma)\u001b[0m\n\u001b[0;32m      1\u001b[0m \u001b[1;32mdef\u001b[0m \u001b[0mratched_option\u001b[0m\u001b[1;33m(\u001b[0m\u001b[0mk\u001b[0m\u001b[1;33m,\u001b[0m \u001b[0mm\u001b[0m\u001b[1;33m,\u001b[0m \u001b[0mQMC\u001b[0m\u001b[1;33m,\u001b[0m \u001b[0mSobol_not_Halton\u001b[0m\u001b[1;33m,\u001b[0m \u001b[0mscramble_func\u001b[0m\u001b[1;33m,\u001b[0m \u001b[0mBB\u001b[0m\u001b[1;33m,\u001b[0m \u001b[0mmc_runs\u001b[0m\u001b[1;33m,\u001b[0m \u001b[0md\u001b[0m\u001b[1;33m,\u001b[0m \u001b[0mdelta_t\u001b[0m\u001b[1;33m,\u001b[0m \u001b[0mS_0\u001b[0m\u001b[1;33m,\u001b[0m \u001b[0mmu\u001b[0m\u001b[1;33m,\u001b[0m \u001b[0msigma\u001b[0m\u001b[1;33m)\u001b[0m\u001b[1;33m:\u001b[0m\u001b[1;33m\u001b[0m\u001b[1;33m\u001b[0m\u001b[0m\n\u001b[1;32m----> 2\u001b[1;33m     \u001b[0mS\u001b[0m \u001b[1;33m=\u001b[0m \u001b[0mcreate_asset_prices\u001b[0m\u001b[1;33m(\u001b[0m\u001b[0mk\u001b[0m\u001b[1;33m,\u001b[0m \u001b[0mm\u001b[0m\u001b[1;33m,\u001b[0m \u001b[0mQMC\u001b[0m\u001b[1;33m,\u001b[0m \u001b[0mSobol_not_Halton\u001b[0m\u001b[1;33m,\u001b[0m \u001b[0mscramble_func\u001b[0m\u001b[1;33m,\u001b[0m \u001b[0mBB\u001b[0m\u001b[1;33m,\u001b[0m \u001b[0mmc_runs\u001b[0m\u001b[1;33m,\u001b[0m \u001b[0md\u001b[0m\u001b[1;33m,\u001b[0m \u001b[0mdelta_t\u001b[0m\u001b[1;33m,\u001b[0m \u001b[0mS_0\u001b[0m\u001b[1;33m,\u001b[0m \u001b[0mmu\u001b[0m\u001b[1;33m,\u001b[0m \u001b[0msigma\u001b[0m\u001b[1;33m)\u001b[0m\u001b[1;33m\u001b[0m\u001b[1;33m\u001b[0m\u001b[0m\n\u001b[0m\u001b[0;32m      3\u001b[0m \u001b[1;33m\u001b[0m\u001b[0m\n\u001b[0;32m      4\u001b[0m     \u001b[0mindic\u001b[0m \u001b[1;33m=\u001b[0m \u001b[0mnp\u001b[0m\u001b[1;33m.\u001b[0m\u001b[0mdiff\u001b[0m\u001b[1;33m(\u001b[0m\u001b[0mS\u001b[0m\u001b[1;33m)\u001b[0m\u001b[1;33m>\u001b[0m\u001b[1;36m0\u001b[0m\u001b[1;33m\u001b[0m\u001b[1;33m\u001b[0m\u001b[0m\n\u001b[0;32m      5\u001b[0m \u001b[1;33m\u001b[0m\u001b[0m\n",
      "\u001b[1;32m~\\AppData\\Local\\Temp\\ipykernel_24648\\2356713372.py\u001b[0m in \u001b[0;36mcreate_asset_prices\u001b[1;34m(k, m, QMC, Sobol_not_Halton, scramble_func, BB, mc_runs, d, delta_t, S_0, mu, sigma)\u001b[0m\n\u001b[0;32m      8\u001b[0m         \u001b[0mBM\u001b[0m \u001b[1;33m=\u001b[0m \u001b[0mBM\u001b[0m\u001b[1;33m[\u001b[0m\u001b[1;33m:\u001b[0m\u001b[1;33m,\u001b[0m\u001b[1;36m1\u001b[0m\u001b[1;33m:\u001b[0m\u001b[0mlen\u001b[0m\u001b[1;33m(\u001b[0m\u001b[0mBM\u001b[0m\u001b[1;33m)\u001b[0m\u001b[1;33m]\u001b[0m \u001b[1;31m#um B_0 abzuschneiden\u001b[0m\u001b[1;33m\u001b[0m\u001b[1;33m\u001b[0m\u001b[0m\n\u001b[0;32m      9\u001b[0m     \u001b[1;32melse\u001b[0m\u001b[1;33m:\u001b[0m\u001b[1;33m\u001b[0m\u001b[1;33m\u001b[0m\u001b[0m\n\u001b[1;32m---> 10\u001b[1;33m         \u001b[0mBM\u001b[0m \u001b[1;33m=\u001b[0m \u001b[0mcreate_standard_bm\u001b[0m\u001b[1;33m(\u001b[0m\u001b[0mk\u001b[0m\u001b[1;33m,\u001b[0m \u001b[0mm\u001b[0m\u001b[1;33m,\u001b[0m \u001b[0mQMC\u001b[0m\u001b[1;33m,\u001b[0m \u001b[0mSobol_not_Halton\u001b[0m\u001b[1;33m,\u001b[0m \u001b[0mscramble_func\u001b[0m\u001b[1;33m,\u001b[0m \u001b[0mmc_runs\u001b[0m\u001b[1;33m,\u001b[0m \u001b[0md\u001b[0m\u001b[1;33m,\u001b[0m \u001b[0mdelta_t\u001b[0m\u001b[1;33m)\u001b[0m  \u001b[1;31m#w_0 ist nciht dabei aber interessiert mich auch nicht\u001b[0m\u001b[1;33m\u001b[0m\u001b[1;33m\u001b[0m\u001b[0m\n\u001b[0m\u001b[0;32m     11\u001b[0m \u001b[1;33m\u001b[0m\u001b[0m\n\u001b[0;32m     12\u001b[0m     \u001b[1;32mfor\u001b[0m \u001b[0mk\u001b[0m \u001b[1;32min\u001b[0m \u001b[0mrange\u001b[0m\u001b[1;33m(\u001b[0m\u001b[0mmc_runs\u001b[0m\u001b[1;33m)\u001b[0m\u001b[1;33m:\u001b[0m\u001b[1;33m\u001b[0m\u001b[1;33m\u001b[0m\u001b[0m\n",
      "\u001b[1;32m~\\AppData\\Local\\Temp\\ipykernel_24648\\4250851279.py\u001b[0m in \u001b[0;36mcreate_standard_bm\u001b[1;34m(k, m, QMC, Sobol_not_Halton, scramble_func, mc_runs, d, delta_t)\u001b[0m\n\u001b[0;32m     18\u001b[0m                 \u001b[1;31m#create Brownian motion\u001b[0m\u001b[1;33m\u001b[0m\u001b[1;33m\u001b[0m\u001b[0m\n\u001b[0;32m     19\u001b[0m                 \u001b[0mdisplay\u001b[0m\u001b[1;33m(\u001b[0m\u001b[0mi\u001b[0m\u001b[1;33m)\u001b[0m\u001b[1;33m\u001b[0m\u001b[1;33m\u001b[0m\u001b[0m\n\u001b[1;32m---> 20\u001b[1;33m                 \u001b[0mBM\u001b[0m\u001b[1;33m[\u001b[0m\u001b[0mi\u001b[0m\u001b[1;33m,\u001b[0m\u001b[1;33m:\u001b[0m\u001b[1;33m]\u001b[0m \u001b[1;33m=\u001b[0m \u001b[0mA\u001b[0m\u001b[1;33m.\u001b[0m\u001b[0mdot\u001b[0m\u001b[1;33m(\u001b[0m\u001b[0mnorm_rv\u001b[0m\u001b[1;33m[\u001b[0m\u001b[0mi\u001b[0m\u001b[1;33m,\u001b[0m\u001b[1;33m:\u001b[0m\u001b[1;33m]\u001b[0m\u001b[1;33m)\u001b[0m\u001b[1;33m\u001b[0m\u001b[1;33m\u001b[0m\u001b[0m\n\u001b[0m\u001b[0;32m     21\u001b[0m \u001b[1;33m\u001b[0m\u001b[0m\n\u001b[0;32m     22\u001b[0m     \u001b[1;32mreturn\u001b[0m \u001b[0mBM\u001b[0m\u001b[1;33m\u001b[0m\u001b[1;33m\u001b[0m\u001b[0m\n",
      "\u001b[1;31mIndexError\u001b[0m: index 8 is out of bounds for axis 0 with size 8"
     ]
    }
   ],
   "source": [
    "n = np.linspace(10,mc_runs, 1000, dtype = int)\n",
    "mc_sim_SBM = np.empty(len(n))\n",
    "mc_sim_BB = np.empty(len(n))\n",
    "\n",
    "mc_runs = int(n[len(n)-1])\n",
    "\n",
    "QMC = True\n",
    "Sobol_not_Halton = True\n",
    "scramble_func = False\n",
    "\n",
    "\n",
    "BB = False\n",
    "payoff_SBM = ratched_option(k, m, QMC, Sobol_not_Halton, scramble_func, BB, mc_runs, d, delta_t, S_0, mu, sigma)\n",
    "\n",
    "BB = True\n",
    "payoff_BB = ratched_option(k, m, QMC, Sobol_not_Halton, scramble_func, BB, mc_runs, d, delta_t, S_0, mu, sigma)\n",
    "\n",
    "#Darf ich die Simulation so machen, in dem ich ich immer ein Teilintervall nehme?\n",
    "for i in range(len(n)):\n",
    "    mc_sim_SBM[i] = payoff_SBM[:n[i]].mean() #Hier werden aus Payoff MC Wert berechnet\n",
    "    mc_sim_BB[i] = payoff_BB[:n[i]].mean()\n"
   ]
  },
  {
   "cell_type": "code",
   "execution_count": 42,
   "metadata": {},
   "outputs": [
    {
     "data": {
      "image/png": "[encoded data removed]",
      "text/plain": [
       "<Figure size 640x480 with 1 Axes>"
      ]
     },
     "metadata": {},
     "output_type": "display_data"
    }
   ],
   "source": [
    "plt.plot(n, np.sqrt((mc_sim_SBM - Exp)**2), label = 'SBM')\n",
    "plt.plot(n, np.sqrt((mc_sim_BB - Exp)**2), label = 'BB')\n",
    "plt.legend()\n",
    "plt.show()"
   ]
  }
 ],
 "metadata": {
  "kernelspec": {
   "display_name": "Python 3.9.13 ('base')",
   "language": "python",
   "name": "python3"
  },
  "language_info": {
   "codemirror_mode": {
    "name": "ipython",
    "version": 3
   },
   "file_extension": ".py",
   "mimetype": "text/x-python",
   "name": "python",
   "nbconvert_exporter": "python",
   "pygments_lexer": "ipython3",
   "version": "3.9.13"
  },
  "orig_nbformat": 4,
  "vscode": {
   "interpreter": {
    "hash": "c5ab3584ff79d6e87db4b0d25c39a35464f3ca16ffea8da4e3728b43fa71751c"
   }
  }
 },
 "nbformat": 4,
 "nbformat_minor": 2
}
