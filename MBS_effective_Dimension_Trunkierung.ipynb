{
 "cells": [
  {
   "cell_type": "code",
   "execution_count": 2,
   "metadata": {},
   "outputs": [],
   "source": [
    "import numpy as np\n",
    "import pandas as pd\n",
    "import math\n",
    "import matplotlib.pyplot as plt\n",
    "from scipy.stats import qmc\n",
    "from scipy.stats import norm\n",
    "import itertools\n"
   ]
  },
  {
   "cell_type": "code",
   "execution_count": 3,
   "metadata": {},
   "outputs": [],
   "source": [
    "def get_bigger_power2(n):\n",
    "    k = 0\n",
    "    m = 0\n",
    "    while n > k:\n",
    "        m += 1\n",
    "        k = 2**m\n",
    "    return m"
   ]
  },
  {
   "cell_type": "markdown",
   "metadata": {},
   "source": [
    "# Low Discrepancy sequences"
   ]
  },
  {
   "cell_type": "markdown",
   "metadata": {},
   "source": [
    "Sobol sequence"
   ]
  },
  {
   "cell_type": "code",
   "execution_count": 4,
   "metadata": {},
   "outputs": [],
   "source": [
    "def Sobol_seq_normal_transformed(d,m, number_paths, scramble_func, number_of_run):\n",
    "    Sobol_seq = qmc.Sobol(d, scramble = scramble_func) # weil scramble ist noch irgendein Extraschritt und default ist True\n",
    "\n",
    "    n = get_bigger_power2(number_of_run * number_paths)\n",
    "\n",
    "    if scramble_func == True:\n",
    "        sample =  Sobol_seq.random_base2(n)\n",
    "        sample = sample[(number_of_run-1) * number_paths:number_of_run * number_paths,:]\n",
    "        sample = np.where(sample == 0, np.random.uniform(), sample)  #DAS HIER IST NUR HIER GEÄNDERT\n",
    "        sample = np.where(sample == 0, 0.5, sample)\n",
    "        sample = np.where(sample == 1, 0.5, sample)\n",
    "    elif scramble_func == False:\n",
    "        sample = Sobol_seq.random_base2(n+1) #aufgrund der Konstruktion berechnen wir 2 mal so viele samples, trennen die erste Zeile ab und nehmen dann die richtige Anzahl\n",
    "        sample = sample[1:,:] #erste Stelle wird weggeschnitten, weil niht brauchbar\n",
    "\n",
    "        sample = sample[(number_of_run-1) * number_paths:number_of_run * number_paths,:]\n",
    "        sample = np.where(sample == 0, np.random.uniform(), sample)  #DAS HIER IST NUR HIER GEÄNDERT\n",
    "        sample = np.where(sample == 0, 0.5, sample)\n",
    "        sample = np.where(sample == 1, 0.5, sample)\n",
    "\n",
    "\n",
    "    #hier nachher wieder ändern\n",
    "    #sample[0,:] = np.zeros(d)\n",
    "    #print(sample)\n",
    "\n",
    "    #uniform random variable to normal distributed random varianle\n",
    "    return norm.ppf(sample,loc = 0, scale = 1) #scale is standard deviation not variance!!!"
   ]
  },
  {
   "cell_type": "markdown",
   "metadata": {},
   "source": [
    "Halton sequence"
   ]
  },
  {
   "cell_type": "code",
   "execution_count": 5,
   "metadata": {},
   "outputs": [],
   "source": [
    "def Halton_seq_normal_transformed(d, mc_runs, scramble_func, number_of_run):\n",
    "    Halton_seq = qmc.Halton(d, scramble=scramble_func)\n",
    "    if scramble_func == False:\n",
    "        sample = Halton_seq.random(n=number_of_run * mc_runs+1)\n",
    "        sample=sample[1:,:]                      #ohne sampling nehmen wir die erste Zeile raus, da dorrt nur Nullen stehen, die man nicht sinnvoll invertieren kann\n",
    "        sample = sample[(number_of_run-1)*mc_runs:,:] #wir wollen immer nur eine Länge von mc_runs aber non-overlapping\n",
    "    elif scramble_func == True:\n",
    "        sample = Halton_seq.random(n=number_of_run * mc_runs)\n",
    "        sample = sample[(number_of_run-1)*mc_runs:,:] #wir wollen immer nur eine Länge von mc_runs aber non-overlapping\n",
    "    #display(sample)\n",
    "    #display(norm.ppf(sample, loc = 0, scale = 1))\n",
    "    return norm.ppf(sample, loc = 0, scale = 1)"
   ]
  },
  {
   "cell_type": "code",
   "execution_count": 6,
   "metadata": {},
   "outputs": [],
   "source": [
    "def get_BB_power2(n):\n",
    "    k = 0\n",
    "    while n%2**k == 0:\n",
    "        k=k+1\n",
    "    return (k-1)"
   ]
  },
  {
   "cell_type": "markdown",
   "metadata": {},
   "source": [
    "BB Konstruktion"
   ]
  },
  {
   "cell_type": "code",
   "execution_count": 7,
   "metadata": {},
   "outputs": [],
   "source": [
    "def get_indices_to_calculate(X):\n",
    "    to_calculate = np.argwhere(np.isnan(X[0,:]) == True)\n",
    "    return to_calculate\n",
    "\n",
    "def get_indices_is_calculated(X):\n",
    "    is_calculated = np.argwhere(np.isnan(X[0,:]) == False)\n",
    "    return is_calculated\n",
    "\n",
    "def create_BB(number_paths, M, sigma, g, delta_t, m, scramble_func, Sobol_not_Halton, QMC, norm_rv):\n",
    "    h = M                       #h : Differenz der Punkte in Indexpunkten   Sit das h hier das a aus dem paper?\n",
    "    X = np.empty((number_paths,M+1))       #+1 damit die 0 am Anfang mit dabei ist\n",
    "    X[:] = np.nan\n",
    "    X[:,0] = 0\n",
    "\n",
    "    if QMC == False:\n",
    "        norm_rv = norm_rv\n",
    "\n",
    "    elif QMC == True:\n",
    "        if Sobol_not_Halton == True:\n",
    "            norm_rv = norm_rv\n",
    "        elif Sobol_not_Halton == False:\n",
    "            norm_rv = norm_rv\n",
    "    \n",
    "    current_pos_rv = 0\n",
    "\n",
    "    X[:,M] = sigma * np.sqrt(M * delta_t) * norm_rv[:,current_pos_rv] #M-1 damit man letzten Eintrag M trifft\n",
    "    current_pos_rv += 1\n",
    "\n",
    "    for i in range(g):\n",
    "        h = int(h/2)\n",
    "        pos = h\n",
    "        for j in range(2**i):\n",
    "            X[:,pos] = (1/2) * X[:,pos - h] + (1/2) * X[:,pos + h] + sigma * np.sqrt((1/2) * h * delta_t) * norm_rv[:, current_pos_rv]\n",
    "            #print(pos)\n",
    "            pos = pos + 2*h\n",
    "            current_pos_rv +=1\n",
    "\n",
    "    #jetzt die restlichen Werte ausfüllen\n",
    "    #wir betrachten nur die erste Zeile, weil in den weiteren Pfaden an den gleichen Stellen die Werte fehlen\n",
    "\n",
    "    i = np.where(np.isnan(X[0,:]) == False)[0][0] #Startwert ist erster Eintrag, der nicht nan ist\n",
    "    while np.isnan(X).any():\n",
    "        to_calculate = get_indices_to_calculate(X)\n",
    "        j = 0\n",
    "        while to_calculate[j] <= i:\n",
    "            j +=1\n",
    "\n",
    "        i = to_calculate[j][0]\n",
    "\n",
    "\n",
    "        #nun suchen wir den k Index, also den oberen Wert für die Berechnung\n",
    "        o = 0\n",
    "        is_calculated = get_indices_is_calculated(X)\n",
    "        while is_calculated[o] <= i:    #Achtung neues i, nicht das von unten!\n",
    "            o+=1\n",
    "        k = is_calculated[o][0]\n",
    "\n",
    "        j = is_calculated[o-1][0]\n",
    "\n",
    "        X[:,i] = ((k-i)/(k-j)) * X[:,j] + ((i-j)/(k-j)) * X[:,k] + sigma * np.sqrt(((k-i)/(k-j)) * delta_t) * norm_rv[:,current_pos_rv]\n",
    "        current_pos_rv += 1\n",
    "    return X"
   ]
  },
  {
   "cell_type": "markdown",
   "metadata": {},
   "source": [
    "Standard Brownian Motion berechnen"
   ]
  },
  {
   "cell_type": "code",
   "execution_count": 8,
   "metadata": {},
   "outputs": [],
   "source": [
    "def create_standard_bm(sigma, number_paths, M, delta_t, m, scramble_func, Sobol_not_Halton, QMC, norm_rv):\n",
    "    w = np.empty((number_paths,M))\n",
    "\n",
    "    if QMC == False:\n",
    "        for m in range(number_paths):\n",
    "            #create lower trinangular matrix with ones\n",
    "            lower_tri_matr = np.tril(np.ones([M,M]))\n",
    "            A =  math.sqrt(delta_t)*lower_tri_matr #! hier sigma multipiziert, ist das so richtig?\n",
    "            normal_sequence = norm_rv[m,:]\n",
    "            #create Brownian motion\n",
    "            w[m,:] = sigma * A.dot(normal_sequence)\n",
    "\n",
    "    elif QMC == True:\n",
    "        if Sobol_not_Halton == True:\n",
    "            Sobol_sequence = norm_rv\n",
    "            for l in range(number_paths):\n",
    "                #create lower trinangular matrix with ones\n",
    "                lower_tri_matr = np.tril(np.ones([M,M]))\n",
    "                A = sigma * math.sqrt(delta_t)*lower_tri_matr #! hier sigma multipiziert, ist das so richtig?\n",
    "                #create Brownian motion\n",
    "                w[l,:] = A.dot(Sobol_sequence[l,:])\n",
    "        elif Sobol_not_Halton == False: \n",
    "            Halton_sequence = norm_rv\n",
    "            for l in range(number_paths):\n",
    "                #create lower trinangular matrix with ones\n",
    "                lower_tri_matr = np.tril(np.ones([M,M]))\n",
    "                A = sigma * math.sqrt(delta_t)*lower_tri_matr #! hier sigma multipiziert, ist das so richtig?\n",
    "                #create Brownian motion\n",
    "                w[l,:] = A.dot(Halton_sequence[l,:])\n",
    "\n",
    "        \n",
    "    w = np.concatenate((np.reshape(np.zeros(number_paths),(number_paths,1)), w),axis=1)\n",
    "    return w"
   ]
  },
  {
   "cell_type": "markdown",
   "metadata": {},
   "source": [
    "Berechnung von i_K, w_k, u_k, c_k, r_k, m_k"
   ]
  },
  {
   "cell_type": "code",
   "execution_count": 9,
   "metadata": {},
   "outputs": [],
   "source": [
    "def create_i_k(BB, number_paths, M, sigma, g, delta_t, m, scramble_func, Sobol_not_Halton, QMC, i_0, K_0, norm_rv):\n",
    "    if BB == True:\n",
    "        X = create_BB(number_paths, M, sigma, g, delta_t, m, scramble_func, Sobol_not_Halton, QMC, norm_rv)\n",
    "    elif BB == False:\n",
    "        X = create_standard_bm(sigma, number_paths, M, delta_t, m, scramble_func, Sobol_not_Halton, QMC, norm_rv)\n",
    "    #display(X)    \n",
    "    #create differences of the Wiener process\n",
    "    delta_X = np.diff(X, axis = 1)\n",
    "\n",
    "    i_k = np.empty((number_paths,M+1))     #+1 weil i_0 mit drin ist\n",
    "    i_k[:,0] = i_0\n",
    "    for n in range(number_paths):\n",
    "        for j in range(M):\n",
    "            j = j+1\n",
    "            i_k[n,j] = i_k[n,j-1]*K_0*math.exp(delta_X[n,j-1])\n",
    "    #i_k = i_k[:,1:]   #i_0 wird abgeschnitten\n",
    "    #display(i_k)\n",
    "    return i_k\n",
    "\n",
    "\n",
    "def create_w_k(i_k, K1, K2, K3, K4, number_paths, M):\n",
    "    i_k = i_k[:,1:]   #i_0 wird abgeschnitten\n",
    "    w_k = np.empty((number_paths,M))\n",
    "    w_k = K1+K2*np.arctan(K3 * i_k + K4)\n",
    "    return w_k\n"
   ]
  },
  {
   "cell_type": "code",
   "execution_count": 10,
   "metadata": {},
   "outputs": [],
   "source": [
    "def create_u_k(number_paths, M, i_k):\n",
    "    u_k = np.empty((number_paths,M))\n",
    "    for k in range(M):\n",
    "        u_k[:,k] = np.prod(1/(i_k[:,0:k+1] + 1), axis = 1)     #hier k+1 weil man bei 0 anfängt\n",
    "    return u_k\n",
    "\n",
    "def create_c_k(number_paths, M, i_0):\n",
    "    c_k = np.ones((number_paths,M))\n",
    "    for k in range(M):                 \n",
    "        for j in range(M - (k+1)):\n",
    "            j = j + 1                   #damit man nicht bei 0 anfängt, erster Summand ist schon 1\n",
    "            c_k[:,k] = c_k[:,k] + (1 + i_0)**(-j)\n",
    "    return c_k\n",
    "\n",
    "def create_r_k(number_paths, M, w_k):\n",
    "    r_k = np.empty((number_paths, M))\n",
    "    for k in range(M):\n",
    "        r_k[:,k] = np.prod(1-w_k[:,0:k] , axis = 1)\n",
    "    return r_k\n",
    "\n",
    "def create_m_k(c, w_k, c_k, r_k, number_paths, M):\n",
    "    m_k = np.empty((number_paths, M))\n",
    "    for k in range(M):\n",
    "        m_k[:,k] = c*r_k[:,k]*((1-w_k[:,k]) + w_k[:,k]*c_k[:,k])\n",
    "    return m_k\n",
    "\n"
   ]
  },
  {
   "cell_type": "markdown",
   "metadata": {},
   "source": [
    "# Monte Carlo Simulation"
   ]
  },
  {
   "cell_type": "markdown",
   "metadata": {},
   "source": [
    "Monte Carlo Simulation mit Standard BM bzw. random walk und Brownian Bridges"
   ]
  },
  {
   "cell_type": "markdown",
   "metadata": {},
   "source": [
    "## Set parameters"
   ]
  },
  {
   "cell_type": "code",
   "execution_count": 13,
   "metadata": {},
   "outputs": [],
   "source": [
    "m = 16\n",
    "number_paths = 2**m #für Sobol sequence\n",
    "sigma = np.sqrt(0.0004)\n",
    "M = 360         #Anzahl der simulierten Monate\n",
    "g = get_BB_power2(M)                   #numer of simulated points excluding the first one\n",
    "delta_t = 1 #muss glaube ich 1 sein, weil sonst stimmt die Varianz nicht \n",
    "\n",
    "\n",
    "K_0 = math.exp(-(sigma**2)/2)\n",
    "K1 = 0.01\n",
    "K2 = -0.005\n",
    "K3 = 10\n",
    "K4 = 0.5\n",
    "\n",
    "c = 1 #monthly payment (beliebig?)\n",
    "\n",
    "i_0 = 0.007\n",
    "\n",
    "BB = False\n",
    "QMC = True\n",
    "Sobol_not_Halton = True\n",
    "scramble_func = False\n"
   ]
  },
  {
   "cell_type": "markdown",
   "metadata": {},
   "source": [
    "In dieser Version des Codes werden zuerst die Folgen kreiert, diese dann entsprechend manipuliert, um damit dann die Simulation durchzuführen und anschließend die varianzen der f_u zu schätzen"
   ]
  },
  {
   "cell_type": "code",
   "execution_count": 14,
   "metadata": {},
   "outputs": [],
   "source": [
    "#Matrizen mit Transformierten Pseudozufallszahlen, Sobol oder Halton\n",
    "number_of_run = 1\n",
    "if QMC == True:\n",
    "    if Sobol_not_Halton == True:\n",
    "        norm_rv = Sobol_seq_normal_transformed(M,m, number_paths, scramble_func, number_of_run)\n",
    "    elif Sobol_not_Halton == False:\n",
    "        norm_rv = Halton_seq_normal_transformed(M, number_paths, scramble_func, number_of_run)\n",
    "elif QMC == False:\n",
    "    norm_rv = np.random.randn(number_paths,M)"
   ]
  },
  {
   "cell_type": "code",
   "execution_count": null,
   "metadata": {},
   "outputs": [],
   "source": [
    "#zuerst generieren wir die Varianz der gesamten Funktion\n",
    "#Achtung i_0 fehlt in i_k\n",
    "i_k = create_i_k(BB, number_paths, M, sigma, g, delta_t, m, scramble_func, Sobol_not_Halton, QMC, i_0, K_0, norm_rv)\n",
    "w_k = create_w_k(i_k, K1, K2, K3, K4, number_paths, M)\n",
    "u_k = create_u_k(number_paths, M, i_k)\n",
    "c_k = create_c_k(number_paths, M, i_0)\n",
    "r_k = create_r_k(number_paths, M, w_k)\n",
    "m_k = create_m_k(c, w_k, c_k, r_k, number_paths, M)\n",
    "\n",
    "\n",
    "expectation = np.sum(np.sum(u_k * m_k,axis=1))/number_paths\n",
    "\n",
    "var_whole_function = (1/(number_paths - 1)) * np.sum((np.sum(u_k * m_k,axis=1) - expectation)**2)  #klasischer Schätzer für varianz\n",
    "print('total Var: ' + str(var_whole_function))\n",
    "\n",
    "\n",
    "\n",
    "\n",
    "#while var <0.99 * var_whole_function: #rausgenommen, weil sonst auf jeden Fall diese Schranke erreicht wird\n",
    "d_T = 1\n",
    "while d_T<359:\n",
    "    results_effective_Dimension_Trunkierung = open(\"effective_Dimension_Trunkierung.txt\", \"a\")\n",
    "    results_effective_Dimension_Trunkierung.write(\"d_T \"+str(d_T) + \"------------------------------------\" + \"\\n\")\n",
    "    results_effective_Dimension_Trunkierung.close()\n",
    "    var = 0\n",
    "    for r in range(d_T):\n",
    "        r = r+1\n",
    "        for u in itertools.combinations(range(d_T), r): #wir von 0 bis 360\n",
    "            print(u)\n",
    "            #Matrizen mit Transformierten Pseudozufallszahlen, Sobol oder Halton\n",
    "            #ACHTUNG: ich bin mir nicht sicher, ob hier die Sobol, Halton Folge nicht non-overlapping sein müsste, damit auch jedesmal neue Pseudozufallszahlen generiert werden wird jedes Mal ein neuer norm_rv erzeugt\n",
    "            if QMC == True:\n",
    "\n",
    "                #die folgende Zeile habe ich wieder rausgenommen für einen besseren Vergleich, evtl. sogar seed für PRNG setzen?\n",
    "                #number_of_run += 1 #number_of_run wird hochgezählt, damit beim nächsten Durchgang eine nicht-überlappende Teilfolge benutzt wird\n",
    "\n",
    "                if Sobol_not_Halton == True:\n",
    "                    norm_rv = Sobol_seq_normal_transformed(M,m, number_paths, scramble_func, number_of_run)\n",
    "                elif Sobol_not_Halton == False:\n",
    "                    norm_rv = Halton_seq_normal_transformed(M, number_paths, scramble_func, number_of_run)\n",
    "            elif QMC == False:\n",
    "                norm_rv = np.random.randn(number_paths,M)\n",
    "            norm_rv_edited = norm_rv\n",
    "            for i in range(M):\n",
    "                if i not in u:\n",
    "                    norm_rv_edited[:,i] = 0 #wir setzen alle Werte, die nicht in u sind auf 0 (Normalverteilung)\n",
    "\n",
    "            i_k = create_i_k(BB, number_paths, M, sigma, g, delta_t, m, scramble_func, Sobol_not_Halton, QMC, i_0, K_0, norm_rv_edited)\n",
    "            w_k = create_w_k(i_k, K1, K2, K3, K4, number_paths, M)\n",
    "            u_k = create_u_k(number_paths, M, i_k)\n",
    "            c_k = create_c_k(number_paths, M, i_0)\n",
    "            r_k = create_r_k(number_paths, M, w_k)\n",
    "            m_k = create_m_k(c, w_k, c_k, r_k, number_paths, M)\n",
    "\n",
    "\n",
    "            expectation = np.sum(np.sum(u_k * m_k,axis=1))/number_paths\n",
    "\n",
    "            additional_var = (1/(number_paths - 1)) * np.sum((np.sum(u_k * m_k,axis=1) - expectation)**2)  #klasischer Schätzer für varianz\n",
    "            var = var + additional_var\n",
    "\n",
    "            results_effective_Dimension_Trunkierung = open(\"effective_Dimension_Trunkierung.txt\", \"a\")\n",
    "            results_effective_Dimension_Trunkierung.write(\" r \"+str(r) + \"u \" +str(u) +  \" additional_var \"+str(additional_var) + \" var \" + str(var) +   \"\\n\")\n",
    "            results_effective_Dimension_Trunkierung.close()\n",
    "    d_T += 1\n",
    "#print(\"r\" + str(r))\n",
    "#print(var)\n",
    "\n"
   ]
  },
  {
   "cell_type": "code",
   "execution_count": null,
   "metadata": {},
   "outputs": [],
   "source": []
  }
 ],
 "metadata": {
  "kernelspec": {
   "display_name": "Python 3.9.13 ('base')",
   "language": "python",
   "name": "python3"
  },
  "language_info": {
   "codemirror_mode": {
    "name": "ipython",
    "version": 3
   },
   "file_extension": ".py",
   "mimetype": "text/x-python",
   "name": "python",
   "nbconvert_exporter": "python",
   "pygments_lexer": "ipython3",
   "version": "3.9.15"
  },
  "orig_nbformat": 4,
  "vscode": {
   "interpreter": {
    "hash": "c5ab3584ff79d6e87db4b0d25c39a35464f3ca16ffea8da4e3728b43fa71751c"
   }
  }
 },
 "nbformat": 4,
 "nbformat_minor": 2
}
