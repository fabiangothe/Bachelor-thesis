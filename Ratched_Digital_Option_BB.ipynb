{
 "cells": [
  {
   "cell_type": "code",
   "execution_count": 8,
   "metadata": {},
   "outputs": [],
   "source": [
    "import numpy as np\n",
    "import math\n",
    "import matplotlib.pyplot as plt\n",
    "import pandas as pd\n",
    "from scipy.stats import qmc\n",
    "from scipy.stats import norm"
   ]
  },
  {
   "cell_type": "markdown",
   "metadata": {},
   "source": [
    "general Parameters"
   ]
  },
  {
   "cell_type": "code",
   "execution_count": 38,
   "metadata": {},
   "outputs": [],
   "source": [
    "T = 1\n",
    "k = 3\n",
    "d = 2**k\n",
    "delta_t = T/d\n",
    "\n",
    "S_0 = 100\n",
    "mu = 0.045\n",
    "sigma = 0.3\n",
    "\n",
    "mc_runs = 1000\n"
   ]
  },
  {
   "cell_type": "markdown",
   "metadata": {},
   "source": [
    "Create Brownian Bridges"
   ]
  },
  {
   "cell_type": "code",
   "execution_count": 42,
   "metadata": {},
   "outputs": [],
   "source": [
    "def create_BB(mc_runs, d, delta_t):\n",
    "    h = d                       #h : Differenz der Punkte in Indexpunkten\n",
    "    X = np.empty((mc_runs,d+1))       #+1 damit die 0 am Anfang mit dabei ist\n",
    "    X[:,0] = 0\n",
    "    X[:,d] = np.sqrt(d * delta_t) * np.random.randn(mc_runs)\n",
    "    for i in range(k):\n",
    "        h = int(h/2)\n",
    "        pos = h\n",
    "        for j in range(2**i):\n",
    "            X[:,pos] = (1/2) * X[:,pos - h] + (1/2) * X[:,pos + h] + np.sqrt((1/2) * h * delta_t) * np.random.randn(mc_runs)\n",
    "            #print(pos)\n",
    "            pos = pos + 2*h\n",
    "    return X"
   ]
  },
  {
   "cell_type": "markdown",
   "metadata": {},
   "source": [
    "Create Asset prices"
   ]
  },
  {
   "cell_type": "code",
   "execution_count": 47,
   "metadata": {},
   "outputs": [],
   "source": [
    "def create_asset_prices(mc_runs, d, delta_t, S_0, mu, sigma):\n",
    "    S = np.empty([mc_runs, d+1]) #+1 weil d mal simuliert wird und aber der Startpreis des Assets auch in dem Vektor steht\n",
    "    \n",
    "    S[:,0] = S_0\n",
    "\n",
    "    BM = create_BB(mc_runs, d, delta_t)  #w_0 ist nciht dabei aber interessiert mich auch nicht\n",
    "\n",
    "    for k in range(mc_runs):\n",
    "        for i in range(d):\n",
    "            S[k, i+1] = S[k, 0]*np.exp(sigma*BM[k, i+1] + (mu-(sigma**2)/2)*(i+1)*delta_t)  #hier BM[i+1] weil BM[0]=0 mit im Vektor isr\n",
    "    return S\n",
    "    "
   ]
  },
  {
   "cell_type": "markdown",
   "metadata": {},
   "source": [
    "Calculate Payoff"
   ]
  },
  {
   "cell_type": "code",
   "execution_count": 48,
   "metadata": {},
   "outputs": [],
   "source": [
    "def ratched_option(mc_runs, d, delta_t, S_0, mu, sigma): \n",
    "    S = create_asset_prices(mc_runs, d, delta_t, S_0, mu, sigma)\n",
    "\n",
    "    indic = np.diff(S)>0\n",
    "\n",
    "    payoff = (indic*S[:,1:S.size]).mean(axis=1)  #python spezifisch fehlt dann das erste Element\n",
    "\n",
    "    #plt.plot(S.T)\n",
    "    #plt.title(\"Simulation of \"+str(mc_runs)+\" sample paths of Asset Prices \")\n",
    "    #plt.show()\n",
    "    return payoff"
   ]
  },
  {
   "cell_type": "markdown",
   "metadata": {},
   "source": [
    "# Monte Carlo Simulation"
   ]
  },
  {
   "cell_type": "markdown",
   "metadata": {},
   "source": [
    "Exaktes Ergebnis"
   ]
  },
  {
   "cell_type": "code",
   "execution_count": 65,
   "metadata": {},
   "outputs": [
    {
     "data": {
      "text/plain": [
       "55.618171509982446"
      ]
     },
     "metadata": {},
     "output_type": "display_data"
    }
   ],
   "source": [
    "Exp = (S_0/d)*norm.cdf((mu-((sigma**2)/2))*math.sqrt(delta_t)/sigma+sigma*math.sqrt(delta_t))*np.sum(np.exp(mu*delta_t*(np.array(range(d))+1)))\n",
    "display(Exp)"
   ]
  },
  {
   "cell_type": "markdown",
   "metadata": {},
   "source": [
    "Monte Carlo Simulation mit Brownian Bridges"
   ]
  },
  {
   "cell_type": "code",
   "execution_count": 49,
   "metadata": {},
   "outputs": [
    {
     "data": {
      "text/plain": [
       "55.41394823221917"
      ]
     },
     "execution_count": 49,
     "metadata": {},
     "output_type": "execute_result"
    }
   ],
   "source": [
    "mc_expectation = ratched_option(mc_runs, d, delta_t, S_0, mu, sigma).mean()\n",
    "mc_expectation"
   ]
  },
  {
   "cell_type": "markdown",
   "metadata": {},
   "source": [
    "Fehlerberechnung RMSE in Option paper ist es aber irgendwie relativ (weil so nicht wirklich vergleichbar mit verschiedenen Längen der Option)"
   ]
  },
  {
   "cell_type": "code",
   "execution_count": 85,
   "metadata": {},
   "outputs": [],
   "source": [
    "n = np.linspace(10,100000, 1000, dtype = int)\n",
    "mc_expectation = np.empty(len(n))\n",
    "mc_runs = int(n[len(n)-1])\n",
    "payoff = ratched_option(mc_runs, d, delta_t, S_0, mu, sigma)\n",
    "\n",
    "for i in range(len(n)):\n",
    "    mc_expectation[i] = payoff[:n[i]].mean()\n"
   ]
  },
  {
   "cell_type": "code",
   "execution_count": 88,
   "metadata": {},
   "outputs": [
    {
     "data": {
      "image/png": "[encoded data removed]",
      "text/plain": [
       "<Figure size 640x480 with 1 Axes>"
      ]
     },
     "metadata": {},
     "output_type": "display_data"
    }
   ],
   "source": [
    "plt.plot(n, np.sqrt((mc_expectation - Exp)**2))\n",
    "plt.show()"
   ]
  },
  {
   "cell_type": "code",
   "execution_count": null,
   "metadata": {},
   "outputs": [],
   "source": []
  }
 ],
 "metadata": {
  "kernelspec": {
   "display_name": "Python 3.9.13 ('base')",
   "language": "python",
   "name": "python3"
  },
  "language_info": {
   "codemirror_mode": {
    "name": "ipython",
    "version": 3
   },
   "file_extension": ".py",
   "mimetype": "text/x-python",
   "name": "python",
   "nbconvert_exporter": "python",
   "pygments_lexer": "ipython3",
   "version": "3.9.13"
  },
  "orig_nbformat": 4,
  "vscode": {
   "interpreter": {
    "hash": "c5ab3584ff79d6e87db4b0d25c39a35464f3ca16ffea8da4e3728b43fa71751c"
   }
  }
 },
 "nbformat": 4,
 "nbformat_minor": 2
}
